{
 "cells": [
  {
   "cell_type": "code",
   "execution_count": 7,
   "id": "23bffb40",
   "metadata": {},
   "outputs": [
    {
     "name": "stdout",
     "output_type": "stream",
     "text": [
      "Plotting points [0, np.float64(1.0)], [0, np.float64(0.0)]\n",
      "Plotting points [np.float64(1.0), np.float64(1.0)], [np.float64(0.0), np.float64(1.0)]\n",
      "Plotting points [np.float64(1.0), np.float64(2.0)], [np.float64(1.0), np.float64(1.0)]\n",
      "Plotting points [np.float64(2.0), np.float64(2.0)], [np.float64(1.0), np.float64(2.0)]\n",
      "Plotting points [np.float64(2.0), np.float64(3.0)], [np.float64(2.0), np.float64(2.0)]\n",
      "Plotting points [np.float64(3.0), np.float64(3.0)], [np.float64(2.0), np.float64(3.0)]\n",
      "Plotting points [np.float64(3.0), np.float64(4.0)], [np.float64(3.0), np.float64(3.0)]\n",
      "Plotting points [np.float64(4.0), np.float64(4.0)], [np.float64(3.0), np.float64(4.0)]\n",
      "Plotting points [np.float64(4.0), np.float64(5.0)], [np.float64(4.0), np.float64(4.0)]\n",
      "Plotting points [np.float64(5.0), np.float64(5.0)], [np.float64(4.0), np.float64(5.0)]\n",
      "Plotting points [np.float64(5.0), np.float64(6.0)], [np.float64(5.0), np.float64(5.0)]\n",
      "Plotting points [np.float64(6.0), np.float64(6.0)], [np.float64(5.0), np.float64(6.0)]\n"
     ]
    },
    {
     "data": {
      "image/png": "[encoded data removed]",
      "text/plain": [
       "<Figure size 640x480 with 1 Axes>"
      ]
     },
     "metadata": {},
     "output_type": "display_data"
    }
   ],
   "source": [
    "from Arm import Arm\n",
    "from Simualtion import Simulation\n",
    "import matplotlib.pyplot as plt\n",
    "import numpy as np\n",
    "\n",
    "arm = Arm((0, 0))\n",
    "arm.add_linkeage(0, 1)\n",
    "arm.add_linkeage(np.pi /2, 1)\n",
    "\n",
    "sim = Simulation((1, 1), arm)\n",
    "sim.draw(plt)\n",
    "\n",
    "plt.show()\n"
   ]
  }
 ],
 "metadata": {
  "kernelspec": {
   "display_name": "Python 3",
   "language": "python",
   "name": "python3"
  },
  "language_info": {
   "codemirror_mode": {
    "name": "ipython",
    "version": 3
   },
   "file_extension": ".py",
   "mimetype": "text/x-python",
   "name": "python",
   "nbconvert_exporter": "python",
   "pygments_lexer": "ipython3",
   "version": "3.10.12"
  }
 },
 "nbformat": 4,
 "nbformat_minor": 5
}
